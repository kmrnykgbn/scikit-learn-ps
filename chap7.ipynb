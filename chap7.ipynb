{
 "cells": [
  {
   "cell_type": "code",
   "execution_count": 1,
   "metadata": {},
   "outputs": [],
   "source": [
    "# To support both python 2 and python 3\n",
    "from __future__ import division, print_function, unicode_literals\n",
    "\n",
    "# Common imports\n",
    "import numpy as np\n",
    "import os\n",
    "\n",
    "# to make this notebook's output stable across runs\n",
    "np.random.seed(42)\n",
    "\n",
    "# To plot pretty figures\n",
    "%matplotlib inline\n",
    "import matplotlib as mpl\n",
    "import matplotlib.pyplot as plt\n",
    "mpl.rc('axes', labelsize=14)\n",
    "mpl.rc('xtick', labelsize=12)\n",
    "mpl.rc('ytick', labelsize=12)\n",
    "\n",
    "# Where to save the figures\n",
    "PROJECT_ROOT_DIR = \".\"\n",
    "CHAPTER_ID = \"ensembles\"\n",
    "\n",
    "def image_path(fig_id):\n",
    "    return os.path.join(PROJECT_ROOT_DIR, \"images\", CHAPTER_ID, fig_id)\n",
    "\n",
    "def save_fig(fig_id, tight_layout=True):\n",
    "    print(\"Saving figure\", fig_id)\n",
    "    if tight_layout:\n",
    "        plt.tight_layout()\n",
    "    plt.savefig(image_path(fig_id) + \".png\", format='png', dpi=300)"
   ]
  },
  {
   "cell_type": "code",
   "execution_count": 2,
   "metadata": {},
   "outputs": [],
   "source": [
    "# データの準備\n",
    "\n",
    "from sklearn.model_selection import train_test_split\n",
    "from sklearn.datasets import make_moons\n",
    "\n",
    "X, y = make_moons(n_samples=500, noise=0.30, random_state=42)\n",
    "X_train, X_test, y_train, y_test = train_test_split(X, y, random_state=42)"
   ]
  },
  {
   "cell_type": "code",
   "execution_count": 3,
   "metadata": {},
   "outputs": [
    {
     "data": {
      "text/plain": [
       "VotingClassifier(estimators=[('lr', LogisticRegression(C=1.0, class_weight=None, dual=False, fit_intercept=True,\n",
       "          intercept_scaling=1, max_iter=100, multi_class='warn',\n",
       "          n_jobs=None, penalty='l2', random_state=42, solver='liblinear',\n",
       "          tol=0.0001, verbose=0, warm_start=False)), ('rf', Rando...f',\n",
       "  max_iter=-1, probability=False, random_state=42, shrinking=True,\n",
       "  tol=0.001, verbose=False))],\n",
       "         flatten_transform=None, n_jobs=None, voting='hard', weights=None)"
      ]
     },
     "execution_count": 3,
     "metadata": {},
     "output_type": "execute_result"
    }
   ],
   "source": [
    "# 3つの異なる分類器から構成される投票分類器を作成（ハード投票）\n",
    "\n",
    "from sklearn.ensemble import RandomForestClassifier\n",
    "from sklearn.ensemble import VotingClassifier\n",
    "from sklearn.linear_model import LogisticRegression\n",
    "from sklearn.svm import SVC\n",
    "\n",
    "log_clf = LogisticRegression(solver=\"liblinear\", random_state=42)\n",
    "rnd_clf = RandomForestClassifier(n_estimators=10, random_state=42)\n",
    "svm_clf = SVC(gamma=\"auto\", random_state=42)\n",
    "\n",
    "voting_clf = VotingClassifier(\n",
    "        estimators=[('lr', log_clf), ('rf', rnd_clf), ('svc', svm_clf)]\n",
    "        ,voting='hard')\n",
    "voting_clf.fit(X_train, y_train)"
   ]
  },
  {
   "cell_type": "code",
   "execution_count": 4,
   "metadata": {},
   "outputs": [
    {
     "name": "stdout",
     "output_type": "stream",
     "text": [
      "LogisticRegression 0.864\n",
      "RandomForestClassifier 0.872\n",
      "SVC 0.888\n",
      "VotingClassifier 0.896\n"
     ]
    }
   ],
   "source": [
    "# 分類器の正解率を出力\n",
    "\n",
    "from sklearn.metrics import accuracy_score\n",
    "\n",
    "for clf in (log_clf, rnd_clf, svm_clf, voting_clf):\n",
    "    clf.fit(X_train, y_train)\n",
    "    y_pred = clf.predict(X_test)\n",
    "    print(clf.__class__.__name__, accuracy_score(y_test, y_pred))"
   ]
  },
  {
   "cell_type": "code",
   "execution_count": 5,
   "metadata": {},
   "outputs": [],
   "source": [
    "# バギング\n",
    "\n",
    "\n",
    "from sklearn.ensemble import BaggingClassifier\n",
    "from sklearn.tree import DecisionTreeClassifier\n",
    "\n",
    "bag_clf = BaggingClassifier(\n",
    "    DecisionTreeClassifier(), n_estimators=500,\n",
    "    max_samples=100, bootstrap=True, n_jobs=-1, random_state=42)\n",
    "bag_clf.fit(X_train, y_train)\n",
    "y_pred = bag_clf.predict(X_test)"
   ]
  },
  {
   "cell_type": "code",
   "execution_count": 6,
   "metadata": {},
   "outputs": [
    {
     "name": "stdout",
     "output_type": "stream",
     "text": [
      "0.904\n"
     ]
    }
   ],
   "source": [
    "from sklearn.metrics import accuracy_score\n",
    "print(accuracy_score(y_test, y_pred))"
   ]
  },
  {
   "cell_type": "code",
   "execution_count": 7,
   "metadata": {},
   "outputs": [
    {
     "data": {
      "text/plain": [
       "0.9253333333333333"
      ]
     },
     "execution_count": 7,
     "metadata": {},
     "output_type": "execute_result"
    }
   ],
   "source": [
    "# OOB検証\n",
    "\n",
    "bag_clf = BaggingClassifier(\n",
    "    DecisionTreeClassifier(), n_estimators=500,\n",
    "    max_samples=100, bootstrap=True, n_jobs=-1, random_state=42\n",
    "    ,oob_score=True)\n",
    "bag_clf.fit(X_train, y_train)\n",
    "bag_clf.oob_score_"
   ]
  },
  {
   "cell_type": "code",
   "execution_count": 8,
   "metadata": {},
   "outputs": [
    {
     "data": {
      "text/plain": [
       "array([[0.35849057, 0.64150943],\n",
       "       [0.43513514, 0.56486486],\n",
       "       [1.        , 0.        ],\n",
       "       [0.0128866 , 0.9871134 ],\n",
       "       [0.03174603, 0.96825397],\n",
       "       [0.07928389, 0.92071611],\n",
       "       [0.4027027 , 0.5972973 ],\n",
       "       [0.06703911, 0.93296089],\n",
       "       [0.92950392, 0.07049608],\n",
       "       [0.88461538, 0.11538462],\n",
       "       [0.59351621, 0.40648379],\n",
       "       [0.04896907, 0.95103093],\n",
       "       [0.7591623 , 0.2408377 ],\n",
       "       [0.82908163, 0.17091837],\n",
       "       [0.88279302, 0.11720698],\n",
       "       [0.07407407, 0.92592593],\n",
       "       [0.04488778, 0.95511222],\n",
       "       [0.92307692, 0.07692308],\n",
       "       [0.70737913, 0.29262087],\n",
       "       [0.94358974, 0.05641026],\n",
       "       [0.06366048, 0.93633952],\n",
       "       [0.22933333, 0.77066667],\n",
       "       [0.91002571, 0.08997429],\n",
       "       [0.98746867, 0.01253133],\n",
       "       [0.96236559, 0.03763441],\n",
       "       [0.        , 1.        ],\n",
       "       [0.94255875, 0.05744125],\n",
       "       [1.        , 0.        ],\n",
       "       [0.02933333, 0.97066667],\n",
       "       [0.70454545, 0.29545455],\n",
       "       [0.        , 1.        ],\n",
       "       [1.        , 0.        ],\n",
       "       [0.01262626, 0.98737374],\n",
       "       [0.0880829 , 0.9119171 ],\n",
       "       [0.09090909, 0.90909091],\n",
       "       [0.9762533 , 0.0237467 ],\n",
       "       [0.01827676, 0.98172324],\n",
       "       [0.54255319, 0.45744681],\n",
       "       [0.02122016, 0.97877984],\n",
       "       [0.98979592, 0.01020408],\n",
       "       [0.10242588, 0.89757412],\n",
       "       [0.34564644, 0.65435356],\n",
       "       [0.98684211, 0.01315789],\n",
       "       [0.98714653, 0.01285347],\n",
       "       [0.00755668, 0.99244332],\n",
       "       [1.        , 0.        ],\n",
       "       [1.        , 0.        ],\n",
       "       [0.0596206 , 0.9403794 ],\n",
       "       [0.97727273, 0.02272727],\n",
       "       [0.05691057, 0.94308943],\n",
       "       [0.94177215, 0.05822785],\n",
       "       [0.7847769 , 0.2152231 ],\n",
       "       [0.91948052, 0.08051948],\n",
       "       [0.80738786, 0.19261214],\n",
       "       [0.01758794, 0.98241206],\n",
       "       [0.0874036 , 0.9125964 ],\n",
       "       [0.77197802, 0.22802198],\n",
       "       [0.02439024, 0.97560976],\n",
       "       [0.01612903, 0.98387097],\n",
       "       [0.0199005 , 0.9800995 ],\n",
       "       [0.81395349, 0.18604651],\n",
       "       [0.6716792 , 0.3283208 ],\n",
       "       [0.72176309, 0.27823691],\n",
       "       [0.9921875 , 0.0078125 ],\n",
       "       [0.01049869, 0.98950131],\n",
       "       [0.75668449, 0.24331551],\n",
       "       [0.97727273, 0.02272727],\n",
       "       [0.99230769, 0.00769231],\n",
       "       [0.60629921, 0.39370079],\n",
       "       [0.98461538, 0.01538462],\n",
       "       [0.3556701 , 0.6443299 ],\n",
       "       [0.30666667, 0.69333333],\n",
       "       [0.41891892, 0.58108108],\n",
       "       [0.72386059, 0.27613941],\n",
       "       [0.        , 1.        ],\n",
       "       [0.25789474, 0.74210526],\n",
       "       [0.89896373, 0.10103627],\n",
       "       [1.        , 0.        ],\n",
       "       [0.02770781, 0.97229219],\n",
       "       [0.96363636, 0.03636364],\n",
       "       [0.00512821, 0.99487179],\n",
       "       [0.18181818, 0.81818182],\n",
       "       [0.13299233, 0.86700767],\n",
       "       [0.40782123, 0.59217877],\n",
       "       [0.98704663, 0.01295337],\n",
       "       [0.04123711, 0.95876289],\n",
       "       [0.66758242, 0.33241758],\n",
       "       [0.07341772, 0.92658228],\n",
       "       [0.01315789, 0.98684211],\n",
       "       [0.        , 1.        ],\n",
       "       [0.38046272, 0.61953728],\n",
       "       [1.        , 0.        ],\n",
       "       [0.01503759, 0.98496241],\n",
       "       [0.05277045, 0.94722955],\n",
       "       [0.01542416, 0.98457584],\n",
       "       [0.81914894, 0.18085106],\n",
       "       [0.71967655, 0.28032345],\n",
       "       [0.07936508, 0.92063492],\n",
       "       [1.        , 0.        ],\n",
       "       [0.35526316, 0.64473684],\n",
       "       [0.67195767, 0.32804233],\n",
       "       [0.01542416, 0.98457584],\n",
       "       [0.12533333, 0.87466667],\n",
       "       [0.42746114, 0.57253886],\n",
       "       [0.96623377, 0.03376623],\n",
       "       [0.04178273, 0.95821727],\n",
       "       [0.97243108, 0.02756892],\n",
       "       [0.44235925, 0.55764075],\n",
       "       [0.28759894, 0.71240106],\n",
       "       [0.9974026 , 0.0025974 ],\n",
       "       [0.24668435, 0.75331565],\n",
       "       [0.85233161, 0.14766839],\n",
       "       [0.26835443, 0.73164557],\n",
       "       [0.7849162 , 0.2150838 ],\n",
       "       [0.9893617 , 0.0106383 ],\n",
       "       [0.98663102, 0.01336898],\n",
       "       [0.        , 1.        ],\n",
       "       [0.        , 1.        ],\n",
       "       [0.4859335 , 0.5140665 ],\n",
       "       [0.98882682, 0.01117318],\n",
       "       [0.06793478, 0.93206522],\n",
       "       [0.9921466 , 0.0078534 ],\n",
       "       [0.97704082, 0.02295918],\n",
       "       [1.        , 0.        ],\n",
       "       [0.95561358, 0.04438642],\n",
       "       [0.97777778, 0.02222222],\n",
       "       [0.03580563, 0.96419437],\n",
       "       [0.95511222, 0.04488778],\n",
       "       [0.96259352, 0.03740648],\n",
       "       [0.02624672, 0.97375328],\n",
       "       [0.23577236, 0.76422764],\n",
       "       [0.8630491 , 0.1369509 ],\n",
       "       [0.4119171 , 0.5880829 ],\n",
       "       [0.92207792, 0.07792208],\n",
       "       [0.002457  , 0.997543  ],\n",
       "       [0.0265252 , 0.9734748 ],\n",
       "       [0.82849604, 0.17150396],\n",
       "       [0.76863753, 0.23136247],\n",
       "       [0.54427083, 0.45572917],\n",
       "       [0.88413098, 0.11586902],\n",
       "       [0.94329897, 0.05670103],\n",
       "       [0.11979167, 0.88020833],\n",
       "       [0.78205128, 0.21794872],\n",
       "       [0.08136483, 0.91863517],\n",
       "       [0.01025641, 0.98974359],\n",
       "       [0.12532637, 0.87467363],\n",
       "       [0.73969072, 0.26030928],\n",
       "       [0.96946565, 0.03053435],\n",
       "       [1.        , 0.        ],\n",
       "       [0.03403141, 0.96596859],\n",
       "       [0.00265957, 0.99734043],\n",
       "       [0.05943152, 0.94056848],\n",
       "       [0.02842377, 0.97157623],\n",
       "       [0.9924812 , 0.0075188 ],\n",
       "       [0.98102981, 0.01897019],\n",
       "       [0.86720867, 0.13279133],\n",
       "       [0.99730458, 0.00269542],\n",
       "       [1.        , 0.        ],\n",
       "       [0.87335092, 0.12664908],\n",
       "       [0.0129199 , 0.9870801 ],\n",
       "       [0.64925373, 0.35074627],\n",
       "       [0.33756345, 0.66243655],\n",
       "       [0.07336957, 0.92663043],\n",
       "       [0.01534527, 0.98465473],\n",
       "       [0.37922078, 0.62077922],\n",
       "       [0.99728997, 0.00271003],\n",
       "       [0.97282609, 0.02717391],\n",
       "       [0.        , 1.        ],\n",
       "       [0.9973545 , 0.0026455 ],\n",
       "       [0.07297297, 0.92702703],\n",
       "       [0.00520833, 0.99479167],\n",
       "       [0.92021277, 0.07978723],\n",
       "       [0.02077922, 0.97922078],\n",
       "       [0.        , 1.        ],\n",
       "       [1.        , 0.        ],\n",
       "       [0.04603581, 0.95396419],\n",
       "       [0.81725888, 0.18274112],\n",
       "       [0.9       , 0.1       ],\n",
       "       [0.033241  , 0.966759  ],\n",
       "       [0.94818653, 0.05181347],\n",
       "       [0.9071618 , 0.0928382 ],\n",
       "       [0.96373057, 0.03626943],\n",
       "       [0.01312336, 0.98687664],\n",
       "       [0.01591512, 0.98408488],\n",
       "       [0.99212598, 0.00787402],\n",
       "       [0.24427481, 0.75572519],\n",
       "       [0.98958333, 0.01041667],\n",
       "       [0.1344086 , 0.8655914 ],\n",
       "       [0.01808786, 0.98191214],\n",
       "       [0.98969072, 0.01030928],\n",
       "       [0.        , 1.        ],\n",
       "       [0.21038251, 0.78961749],\n",
       "       [0.89238845, 0.10761155],\n",
       "       [0.91122715, 0.08877285],\n",
       "       [0.62005277, 0.37994723],\n",
       "       [0.68533333, 0.31466667],\n",
       "       [0.04336735, 0.95663265],\n",
       "       [0.24479167, 0.75520833],\n",
       "       [0.98666667, 0.01333333],\n",
       "       [0.92875989, 0.07124011],\n",
       "       [0.92245989, 0.07754011],\n",
       "       [0.98387097, 0.01612903],\n",
       "       [0.03968254, 0.96031746],\n",
       "       [0.01302083, 0.98697917],\n",
       "       [0.0971867 , 0.9028133 ],\n",
       "       [0.51785714, 0.48214286],\n",
       "       [0.        , 1.        ],\n",
       "       [0.02046036, 0.97953964],\n",
       "       [0.97474747, 0.02525253],\n",
       "       [0.09189189, 0.90810811],\n",
       "       [0.12403101, 0.87596899],\n",
       "       [0.88804071, 0.11195929],\n",
       "       [0.0536193 , 0.9463807 ],\n",
       "       [0.37317073, 0.62682927],\n",
       "       [0.01084011, 0.98915989],\n",
       "       [1.        , 0.        ],\n",
       "       [0.01302083, 0.98697917],\n",
       "       [0.01369863, 0.98630137],\n",
       "       [0.91052632, 0.08947368],\n",
       "       [0.9012987 , 0.0987013 ],\n",
       "       [0.95641026, 0.04358974],\n",
       "       [0.02150538, 0.97849462],\n",
       "       [0.05927835, 0.94072165],\n",
       "       [0.95989305, 0.04010695],\n",
       "       [0.1193634 , 0.8806366 ],\n",
       "       [0.        , 1.        ],\n",
       "       [0.23218997, 0.76781003],\n",
       "       [0.97066667, 0.02933333],\n",
       "       [0.84594595, 0.15405405],\n",
       "       [0.12207792, 0.87792208],\n",
       "       [0.71891892, 0.28108108],\n",
       "       [0.93350384, 0.06649616],\n",
       "       [0.14516129, 0.85483871],\n",
       "       [0.13178295, 0.86821705],\n",
       "       [0.98727735, 0.01272265],\n",
       "       [0.        , 1.        ],\n",
       "       [0.01358696, 0.98641304],\n",
       "       [0.01842105, 0.98157895],\n",
       "       [0.38324873, 0.61675127],\n",
       "       [0.86315789, 0.13684211],\n",
       "       [0.04884319, 0.95115681],\n",
       "       [0.9893617 , 0.0106383 ],\n",
       "       [0.84679666, 0.15320334],\n",
       "       [0.0025641 , 0.9974359 ],\n",
       "       [0.76363636, 0.23636364],\n",
       "       [0.98737374, 0.01262626],\n",
       "       [0.00791557, 0.99208443],\n",
       "       [0.98971722, 0.01028278],\n",
       "       [0.05913978, 0.94086022],\n",
       "       [0.01305483, 0.98694517],\n",
       "       [0.11653117, 0.88346883],\n",
       "       [0.25065963, 0.74934037],\n",
       "       [0.89312977, 0.10687023],\n",
       "       [0.05912596, 0.94087404],\n",
       "       [0.98694517, 0.01305483],\n",
       "       [0.60349127, 0.39650873],\n",
       "       [0.08080808, 0.91919192],\n",
       "       [0.632     , 0.368     ],\n",
       "       [0.88688946, 0.11311054],\n",
       "       [0.00787402, 0.99212598],\n",
       "       [0.99238579, 0.00761421],\n",
       "       [0.01041667, 0.98958333],\n",
       "       [0.        , 1.        ],\n",
       "       [0.76616915, 0.23383085],\n",
       "       [0.        , 1.        ],\n",
       "       [0.98918919, 0.01081081],\n",
       "       [0.1038961 , 0.8961039 ],\n",
       "       [0.73589744, 0.26410256],\n",
       "       [0.14054054, 0.85945946],\n",
       "       [0.9972973 , 0.0027027 ],\n",
       "       [0.89322917, 0.10677083],\n",
       "       [0.01028278, 0.98971722],\n",
       "       [0.06332454, 0.93667546],\n",
       "       [0.12827225, 0.87172775],\n",
       "       [0.08967391, 0.91032609],\n",
       "       [0.        , 1.        ],\n",
       "       [0.96899225, 0.03100775],\n",
       "       [0.84615385, 0.15384615],\n",
       "       [0.15549598, 0.84450402],\n",
       "       [0.93129771, 0.06870229],\n",
       "       [0.04221636, 0.95778364],\n",
       "       [0.6278481 , 0.3721519 ],\n",
       "       [0.1443299 , 0.8556701 ],\n",
       "       [0.95064935, 0.04935065],\n",
       "       [0.90858726, 0.09141274],\n",
       "       [0.00789474, 0.99210526],\n",
       "       [0.94559585, 0.05440415],\n",
       "       [0.90909091, 0.09090909],\n",
       "       [0.        , 1.        ],\n",
       "       [0.05319149, 0.94680851],\n",
       "       [1.        , 0.        ],\n",
       "       [0.02917772, 0.97082228],\n",
       "       [0.98963731, 0.01036269],\n",
       "       [0.09459459, 0.90540541],\n",
       "       [0.89304813, 0.10695187],\n",
       "       [1.        , 0.        ],\n",
       "       [0.01333333, 0.98666667],\n",
       "       [0.05121294, 0.94878706],\n",
       "       [0.68      , 0.32      ],\n",
       "       [0.        , 1.        ],\n",
       "       [1.        , 0.        ],\n",
       "       [0.68717949, 0.31282051],\n",
       "       [0.87212276, 0.12787724],\n",
       "       [0.98974359, 0.01025641],\n",
       "       [0.67539267, 0.32460733],\n",
       "       [0.49333333, 0.50666667],\n",
       "       [0.01362398, 0.98637602],\n",
       "       [0.83037975, 0.16962025],\n",
       "       [0.01591512, 0.98408488],\n",
       "       [1.        , 0.        ],\n",
       "       [0.78042328, 0.21957672],\n",
       "       [0.9871134 , 0.0128866 ],\n",
       "       [1.        , 0.        ],\n",
       "       [0.85025381, 0.14974619],\n",
       "       [0.27979275, 0.72020725],\n",
       "       [0.1689008 , 0.8310992 ],\n",
       "       [0.2382199 , 0.7617801 ],\n",
       "       [0.        , 1.        ],\n",
       "       [0.75590551, 0.24409449],\n",
       "       [0.9038961 , 0.0961039 ],\n",
       "       [0.05882353, 0.94117647],\n",
       "       [1.        , 0.        ],\n",
       "       [0.97567568, 0.02432432],\n",
       "       [0.98992443, 0.01007557],\n",
       "       [0.00507614, 0.99492386],\n",
       "       [0.07653061, 0.92346939],\n",
       "       [0.91794872, 0.08205128],\n",
       "       [0.93523316, 0.06476684],\n",
       "       [0.9973822 , 0.0026178 ],\n",
       "       [0.24378109, 0.75621891],\n",
       "       [0.992     , 0.008     ],\n",
       "       [0.135     , 0.865     ],\n",
       "       [0.94845361, 0.05154639],\n",
       "       [0.04773869, 0.95226131],\n",
       "       [0.98777506, 0.01222494],\n",
       "       [0.99479167, 0.00520833],\n",
       "       [0.98271605, 0.01728395],\n",
       "       [0.        , 1.        ],\n",
       "       [0.93882979, 0.06117021],\n",
       "       [0.01591512, 0.98408488],\n",
       "       [0.06958763, 0.93041237],\n",
       "       [0.06127451, 0.93872549],\n",
       "       [0.        , 1.        ],\n",
       "       [1.        , 0.        ],\n",
       "       [0.98641304, 0.01358696],\n",
       "       [0.        , 1.        ],\n",
       "       [0.95989305, 0.04010695],\n",
       "       [0.07754011, 0.92245989],\n",
       "       [0.98469388, 0.01530612],\n",
       "       [0.18489583, 0.81510417],\n",
       "       [0.0156658 , 0.9843342 ],\n",
       "       [0.04569892, 0.95430108],\n",
       "       [0.        , 1.        ],\n",
       "       [0.81967213, 0.18032787],\n",
       "       [0.08521303, 0.91478697],\n",
       "       [0.13456464, 0.86543536],\n",
       "       [1.        , 0.        ],\n",
       "       [0.93229167, 0.06770833],\n",
       "       [0.23015873, 0.76984127],\n",
       "       [0.94191919, 0.05808081],\n",
       "       [0.05093834, 0.94906166],\n",
       "       [0.12834225, 0.87165775],\n",
       "       [1.        , 0.        ],\n",
       "       [0.91374663, 0.08625337],\n",
       "       [0.60638298, 0.39361702],\n",
       "       [0.87399464, 0.12600536],\n",
       "       [1.        , 0.        ],\n",
       "       [0.02419355, 0.97580645],\n",
       "       [0.94933333, 0.05066667],\n",
       "       [0.03523035, 0.96476965],\n",
       "       [0.13612565, 0.86387435],\n",
       "       [0.9093199 , 0.0906801 ],\n",
       "       [1.        , 0.        ],\n",
       "       [0.08854167, 0.91145833],\n",
       "       [0.69086022, 0.30913978]])"
      ]
     },
     "execution_count": 8,
     "metadata": {},
     "output_type": "execute_result"
    }
   ],
   "source": [
    "# 個々の訓練インスタンスがクラスに属する確率\n",
    "bag_clf.oob_decision_function_"
   ]
  },
  {
   "cell_type": "code",
   "execution_count": 9,
   "metadata": {},
   "outputs": [
    {
     "data": {
      "text/plain": [
       "0.976"
      ]
     },
     "execution_count": 9,
     "metadata": {},
     "output_type": "execute_result"
    }
   ],
   "source": [
    "# ランダムフォレスト\n",
    "\n",
    "from sklearn.ensemble import RandomForestClassifier\n",
    "\n",
    "rnd_clf = RandomForestClassifier(n_estimators=500, max_leaf_nodes=15\n",
    "                                ,n_jobs=-1)\n",
    "rnd_clf.fit(X_train, y_train)\n",
    "\n",
    "y_pred_rf = rnd_clf.predict(X_test)\n",
    "np.sum(y_pred == y_pred_rf) / len(y_pred)"
   ]
  },
  {
   "cell_type": "code",
   "execution_count": 10,
   "metadata": {},
   "outputs": [
    {
     "name": "stdout",
     "output_type": "stream",
     "text": [
      "sepal length (cm) 0.11249225099876374\n",
      "sepal width (cm) 0.023119288282510326\n",
      "petal length (cm) 0.44103046436395765\n",
      "petal width (cm) 0.4233579963547681\n"
     ]
    }
   ],
   "source": [
    "# 各特徴量の重要度を出力する\n",
    "# (feature_importances変数を使用)\n",
    "\n",
    "from sklearn.datasets import load_iris\n",
    "iris = load_iris()\n",
    "rnd_clf = RandomForestClassifier(n_estimators=500, n_jobs=-1, random_state=42)\n",
    "rnd_clf.fit(iris[\"data\"], iris[\"target\"])\n",
    "for name, score in zip(iris[\"feature_names\"], rnd_clf.feature_importances_):\n",
    "    print(name, score)"
   ]
  },
  {
   "cell_type": "code",
   "execution_count": 11,
   "metadata": {},
   "outputs": [
    {
     "data": {
      "text/plain": [
       "AdaBoostClassifier(algorithm='SAMME.R',\n",
       "          base_estimator=DecisionTreeClassifier(class_weight=None, criterion='gini', max_depth=1,\n",
       "            max_features=None, max_leaf_nodes=None,\n",
       "            min_impurity_decrease=0.0, min_impurity_split=None,\n",
       "            min_samples_leaf=1, min_samples_split=2,\n",
       "            min_weight_fraction_leaf=0.0, presort=False, random_state=None,\n",
       "            splitter='best'),\n",
       "          learning_rate=0.5, n_estimators=200, random_state=None)"
      ]
     },
     "execution_count": 11,
     "metadata": {},
     "output_type": "execute_result"
    }
   ],
   "source": [
    "# アダブーストアンサンブル\n",
    "\n",
    "from sklearn.ensemble import AdaBoostClassifier\n",
    "\n",
    "ada_clf = AdaBoostClassifier(\n",
    "    DecisionTreeClassifier(max_depth=1), n_estimators=200,\n",
    "algorithm=\"SAMME.R\", learning_rate=0.5)\n",
    "ada_clf.fit(X_train, y_train)\n"
   ]
  },
  {
   "cell_type": "code",
   "execution_count": 12,
   "metadata": {},
   "outputs": [],
   "source": [
    "# 勾配ブースティング\n",
    "\n",
    "#データの準備\n",
    "np.random.seed(42)\n",
    "X = np.random.rand(100, 1) - 0.5\n",
    "y = 3*X[:, 0]**2 + 0.05 * np.random.randn(100)"
   ]
  },
  {
   "cell_type": "code",
   "execution_count": 13,
   "metadata": {},
   "outputs": [
    {
     "data": {
      "text/plain": [
       "DecisionTreeRegressor(criterion='mse', max_depth=2, max_features=None,\n",
       "           max_leaf_nodes=None, min_impurity_decrease=0.0,\n",
       "           min_impurity_split=None, min_samples_leaf=1,\n",
       "           min_samples_split=2, min_weight_fraction_leaf=0.0,\n",
       "           presort=False, random_state=42, splitter='best')"
      ]
     },
     "execution_count": 13,
     "metadata": {},
     "output_type": "execute_result"
    }
   ],
   "source": [
    "from sklearn.tree import DecisionTreeRegressor\n",
    "\n",
    "tree_reg1 = DecisionTreeRegressor(max_depth=2, random_state=42)\n",
    "tree_reg1.fit(X, y)"
   ]
  },
  {
   "cell_type": "code",
   "execution_count": 14,
   "metadata": {
    "scrolled": true
   },
   "outputs": [
    {
     "data": {
      "text/plain": [
       "DecisionTreeRegressor(criterion='mse', max_depth=2, max_features=None,\n",
       "           max_leaf_nodes=None, min_impurity_decrease=0.0,\n",
       "           min_impurity_split=None, min_samples_leaf=1,\n",
       "           min_samples_split=2, min_weight_fraction_leaf=0.0,\n",
       "           presort=False, random_state=42, splitter='best')"
      ]
     },
     "execution_count": 14,
     "metadata": {},
     "output_type": "execute_result"
    }
   ],
   "source": [
    "# 一番目の予測器の残差を使って次の予測器を訓練\n",
    "\n",
    "y2 = y - tree_reg1.predict(X)\n",
    "tree_reg2 = DecisionTreeRegressor(max_depth=2, random_state=42)\n",
    "tree_reg2.fit(X, y2)"
   ]
  },
  {
   "cell_type": "code",
   "execution_count": 15,
   "metadata": {},
   "outputs": [
    {
     "data": {
      "text/plain": [
       "DecisionTreeRegressor(criterion='mse', max_depth=2, max_features=None,\n",
       "           max_leaf_nodes=None, min_impurity_decrease=0.0,\n",
       "           min_impurity_split=None, min_samples_leaf=1,\n",
       "           min_samples_split=2, min_weight_fraction_leaf=0.0,\n",
       "           presort=False, random_state=42, splitter='best')"
      ]
     },
     "execution_count": 15,
     "metadata": {},
     "output_type": "execute_result"
    }
   ],
   "source": [
    "# 二番目の予測器の残差を使って次の予測器を訓練\n",
    "\n",
    "y3 = y2 - tree_reg2.predict(X)\n",
    "tree_reg3 = DecisionTreeRegressor(max_depth=2, random_state=42)\n",
    "tree_reg3.fit(X, y3)"
   ]
  },
  {
   "cell_type": "code",
   "execution_count": 16,
   "metadata": {},
   "outputs": [],
   "source": [
    "# すべての木の予測を加算する\n",
    "\n",
    "X_new = np.array([[0.8]])\n",
    "\n",
    "y_pred = sum(tree.predict(X_new) for tree in (tree_reg1, tree_reg2,\n",
    "                                             tree_reg3))"
   ]
  },
  {
   "cell_type": "code",
   "execution_count": 17,
   "metadata": {},
   "outputs": [
    {
     "data": {
      "text/plain": [
       "array([0.75026781])"
      ]
     },
     "execution_count": 17,
     "metadata": {},
     "output_type": "execute_result"
    }
   ],
   "source": [
    "y_pred"
   ]
  },
  {
   "cell_type": "code",
   "execution_count": 18,
   "metadata": {},
   "outputs": [
    {
     "data": {
      "text/plain": [
       "GradientBoostingRegressor(alpha=0.9, criterion='friedman_mse', init=None,\n",
       "             learning_rate=1.0, loss='ls', max_depth=2, max_features=None,\n",
       "             max_leaf_nodes=None, min_impurity_decrease=0.0,\n",
       "             min_impurity_split=None, min_samples_leaf=1,\n",
       "             min_samples_split=2, min_weight_fraction_leaf=0.0,\n",
       "             n_estimators=3, n_iter_no_change=None, presort='auto',\n",
       "             random_state=42, subsample=1.0, tol=0.0001,\n",
       "             validation_fraction=0.1, verbose=0, warm_start=False)"
      ]
     },
     "execution_count": 18,
     "metadata": {},
     "output_type": "execute_result"
    }
   ],
   "source": [
    "# GradientBoostingRegressorを使用\n",
    "\n",
    "from sklearn.ensemble import GradientBoostingRegressor\n",
    "\n",
    "gbrt = GradientBoostingRegressor(max_depth=2, n_estimators=3,\n",
    "                                learning_rate=1.0,\n",
    "                                 random_state=42)\n",
    "gbrt.fit(X,y)"
   ]
  },
  {
   "cell_type": "code",
   "execution_count": 19,
   "metadata": {},
   "outputs": [
    {
     "data": {
      "text/plain": [
       "GradientBoostingRegressor(alpha=0.9, criterion='friedman_mse', init=None,\n",
       "             learning_rate=0.1, loss='ls', max_depth=2, max_features=None,\n",
       "             max_leaf_nodes=None, min_impurity_decrease=0.0,\n",
       "             min_impurity_split=None, min_samples_leaf=1,\n",
       "             min_samples_split=2, min_weight_fraction_leaf=0.0,\n",
       "             n_estimators=80, n_iter_no_change=None, presort='auto',\n",
       "             random_state=42, subsample=1.0, tol=0.0001,\n",
       "             validation_fraction=0.1, verbose=0, warm_start=False)"
      ]
     },
     "execution_count": 19,
     "metadata": {},
     "output_type": "execute_result"
    }
   ],
   "source": [
    "# 早期打ち切りを用いたGBRTアンサンブル\n",
    "\n",
    "import numpy as np\n",
    "from sklearn.model_selection import train_test_split\n",
    "from sklearn.metrics import mean_squared_error\n",
    "\n",
    "X_train, X_val, y_train, y_val = train_test_split(X, y)\n",
    "\n",
    "gbrt = GradientBoostingRegressor(max_depth=2,\n",
    "                                 n_estimators=120, random_state=42)\n",
    "gbrt.fit(X_train, y_train)\n",
    "\n",
    "# staged_predictでX_valの要素を予測\n",
    "errors = [mean_squared_error(y_val, y_pred)\n",
    "         for y_pred in gbrt.staged_predict(X_val)]\n",
    "\n",
    "#最適な木の数を出力\n",
    "best_n_estimators = np.argmin(errors) + 1\n",
    "\n",
    "gbrt_best = GradientBoostingRegressor(max_depth=2,n_estimators=best_n_estimators, random_state=42)\n",
    "gbrt_best.fit(X_train, y_train)"
   ]
  },
  {
   "cell_type": "code",
   "execution_count": 20,
   "metadata": {},
   "outputs": [],
   "source": [
    "# 検証誤差が5回連続で改善されないなら打ち切り\n",
    "\n",
    "gbrt = GradientBoostingRegressor(max_depth=2, warm_start=True)\n",
    "\n",
    "# 変数の初期化\n",
    "min_val_error = float(\"inf\")\n",
    "error_going_up = 0\n",
    "\n",
    "for n_estimators in range(1, 120):\n",
    "    gbrt.n_estimators = n_estimators\n",
    "    gbrt.fit(X_train, y_train)\n",
    "    y_pred = gbrt.predict(X_val)\n",
    "    val_error = mean_squared_error(y_val, y_pred)\n",
    "    if val_error < min_val_error:\n",
    "        min_val_error = val_error\n",
    "        error_going_up = 0 # リセット\n",
    "    else:\n",
    "        error_going_up += 1\n",
    "    if error_going_up == 5:\n",
    "        break #早期打ち切り"
   ]
  },
  {
   "cell_type": "code",
   "execution_count": 21,
   "metadata": {},
   "outputs": [
    {
     "name": "stdout",
     "output_type": "stream",
     "text": [
      "59\n"
     ]
    }
   ],
   "source": [
    "print(gbrt.n_estimators)"
   ]
  },
  {
   "cell_type": "code",
   "execution_count": 22,
   "metadata": {},
   "outputs": [],
   "source": [
    "# XGBoostを使ってみる\n",
    "\n",
    "try:\n",
    "    import xgboost\n",
    "except ImportError as ex:\n",
    "    print(\"Error: the xgboost library is not installed.\")\n",
    "    xgboost = None"
   ]
  },
  {
   "cell_type": "code",
   "execution_count": 23,
   "metadata": {},
   "outputs": [
    {
     "name": "stdout",
     "output_type": "stream",
     "text": [
      "[19:30:32] WARNING: C:/Jenkins/workspace/xgboost-win64_release_0.90/src/objective/regression_obj.cu:152: reg:linear is now deprecated in favor of reg:squarederror.\n",
      "Validation MSE: 0.0027716804724210293\n"
     ]
    }
   ],
   "source": [
    "if xgboost is not None:\n",
    "    xgb_reg = xgboost.XGBRegressor(random_state=42)\n",
    "    xgb_reg.fit(X_train, y_train)\n",
    "    y_pred = xgb_reg.predict(X_val)\n",
    "    val_error = mean_squared_error(y_val, y_pred)\n",
    "    print(\"Validation MSE:\", val_error)"
   ]
  },
  {
   "cell_type": "code",
   "execution_count": 24,
   "metadata": {},
   "outputs": [
    {
     "name": "stdout",
     "output_type": "stream",
     "text": [
      "[19:30:32] WARNING: C:/Jenkins/workspace/xgboost-win64_release_0.90/src/objective/regression_obj.cu:152: reg:linear is now deprecated in favor of reg:squarederror.\n",
      "[0]\tvalidation_0-rmse:0.265537\n",
      "Will train until validation_0-rmse hasn't improved in 2 rounds.\n",
      "[1]\tvalidation_0-rmse:0.240383\n",
      "[2]\tvalidation_0-rmse:0.217953\n",
      "[3]\tvalidation_0-rmse:0.197928\n",
      "[4]\tvalidation_0-rmse:0.17992\n",
      "[5]\tvalidation_0-rmse:0.164447\n",
      "[6]\tvalidation_0-rmse:0.151183\n",
      "[7]\tvalidation_0-rmse:0.139264\n",
      "[8]\tvalidation_0-rmse:0.128934\n",
      "[9]\tvalidation_0-rmse:0.119841\n",
      "[10]\tvalidation_0-rmse:0.111846\n",
      "[11]\tvalidation_0-rmse:0.104896\n",
      "[12]\tvalidation_0-rmse:0.098699\n",
      "[13]\tvalidation_0-rmse:0.093029\n",
      "[14]\tvalidation_0-rmse:0.088443\n",
      "[15]\tvalidation_0-rmse:0.083631\n",
      "[16]\tvalidation_0-rmse:0.080011\n",
      "[17]\tvalidation_0-rmse:0.076111\n",
      "[18]\tvalidation_0-rmse:0.073629\n",
      "[19]\tvalidation_0-rmse:0.070929\n",
      "[20]\tvalidation_0-rmse:0.068775\n",
      "[21]\tvalidation_0-rmse:0.066377\n",
      "[22]\tvalidation_0-rmse:0.064613\n",
      "[23]\tvalidation_0-rmse:0.06317\n",
      "[24]\tvalidation_0-rmse:0.061713\n",
      "[25]\tvalidation_0-rmse:0.06016\n",
      "[26]\tvalidation_0-rmse:0.059017\n",
      "[27]\tvalidation_0-rmse:0.058073\n",
      "[28]\tvalidation_0-rmse:0.057446\n",
      "[29]\tvalidation_0-rmse:0.056711\n",
      "[30]\tvalidation_0-rmse:0.055934\n",
      "[31]\tvalidation_0-rmse:0.055338\n",
      "[32]\tvalidation_0-rmse:0.054788\n",
      "[33]\tvalidation_0-rmse:0.054288\n",
      "[34]\tvalidation_0-rmse:0.053867\n",
      "[35]\tvalidation_0-rmse:0.053554\n",
      "[36]\tvalidation_0-rmse:0.053571\n",
      "[37]\tvalidation_0-rmse:0.053256\n",
      "[38]\tvalidation_0-rmse:0.05296\n",
      "[39]\tvalidation_0-rmse:0.052759\n",
      "[40]\tvalidation_0-rmse:0.052836\n",
      "[41]\tvalidation_0-rmse:0.05261\n",
      "[42]\tvalidation_0-rmse:0.052644\n",
      "[43]\tvalidation_0-rmse:0.052431\n",
      "[44]\tvalidation_0-rmse:0.05252\n",
      "[45]\tvalidation_0-rmse:0.052634\n",
      "Stopping. Best iteration:\n",
      "[43]\tvalidation_0-rmse:0.052431\n",
      "\n",
      "Validation MSE: 0.0027490109268168026\n"
     ]
    }
   ],
   "source": [
    "if xgboost is not None:  # not shown in the book\n",
    "    \n",
    "    # early_stopping_round=2で2回改善が見られなければ打ち切り\n",
    "    xgb_reg.fit(X_train, y_train,\n",
    "                eval_set=[(X_val, y_val)], early_stopping_rounds=2)\n",
    "    y_pred = xgb_reg.predict(X_val)\n",
    "    val_error = mean_squared_error(y_val, y_pred)\n",
    "    print(\"Validation MSE:\", val_error)"
   ]
  },
  {
   "cell_type": "code",
   "execution_count": null,
   "metadata": {},
   "outputs": [],
   "source": []
  },
  {
   "cell_type": "code",
   "execution_count": null,
   "metadata": {},
   "outputs": [],
   "source": []
  },
  {
   "cell_type": "code",
   "execution_count": null,
   "metadata": {},
   "outputs": [],
   "source": []
  },
  {
   "cell_type": "code",
   "execution_count": null,
   "metadata": {},
   "outputs": [],
   "source": []
  }
 ],
 "metadata": {
  "kernelspec": {
   "display_name": "Python 3",
   "language": "python",
   "name": "python3"
  },
  "language_info": {
   "codemirror_mode": {
    "name": "ipython",
    "version": 3
   },
   "file_extension": ".py",
   "mimetype": "text/x-python",
   "name": "python",
   "nbconvert_exporter": "python",
   "pygments_lexer": "ipython3",
   "version": "3.7.3"
  }
 },
 "nbformat": 4,
 "nbformat_minor": 2
}
